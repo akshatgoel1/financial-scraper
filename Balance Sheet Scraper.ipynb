{
 "cells": [
  {
   "cell_type": "code",
   "execution_count": 106,
   "metadata": {},
   "outputs": [
    {
     "name": "stdout",
     "output_type": "stream",
     "text": [
      "[[], ['Sources of funds'], [\"Owner's fund\"], ['Equity share capital', '72.21', '72.21', '72.21', '72.21', '72.21'], ['Share application money', '-', '-', '-', '-', '-'], ['Preference share capital', '-', '-', '-', '-', '-'], ['Reserves & surplus', '2,045.82', '1,969.58', '1,787.36', '1,615.49', '1,521.48'], ['Loan funds'], ['Secured loans', '1,235.53', '1,116.36', '655.68', '605.00', '684.80'], ['Unsecured loans', '-', '-', '127.61', '35.42', '40.17'], ['Total', '3,353.56', '3,158.15', '2,642.87', '2,328.13', '2,318.66'], ['Uses of funds'], ['Fixed assets'], ['Gross block', '3,466.39', '2,960.90', '2,706.47', '2,523.25', '2,393.44'], ['Less : revaluation reserve', '-', '-', '0.03', '0.03', '0.03'], ['Less : accumulated depreciation', '1,539.29', '1,468.94', '1,342.65', '1,241.46', '1,110.91'], ['Net block', '1,927.10', '1,491.96', '1,363.79', '1,281.75', '1,282.50'], ['Capital work-in-progress', '217.82', '514.34', '219.23', '26.36', '72.72'], ['Investments', '372.96', '374.35', '424.10', '448.26', '530.49'], ['Net current assets'], ['Current assets, loans & advances', '1,909.78', '1,699.68', '1,573.04', '1,509.06', '1,482.83'], ['Less : current liabilities & provisions', '1,074.11', '922.18', '937.29', '937.31', '1,049.88'], ['Total net current assets', '835.68', '777.50', '635.75', '571.75', '432.96'], ['Miscellaneous expenses not written', '-', '-', '-', '-', '-'], ['Total', '3,353.56', '3,158.15', '2,642.87', '2,328.13', '2,318.66'], ['Notes:'], ['Book value of unquoted investments', '364.00', '364.00', '366.15', '390.31', '472.54'], ['Market value of quoted investments', '109.89', '94.05', '65.57', '55.99', '44.39'], ['Contingent liabilities', '2,093.57', '2,224.78', '2,420.11', '2,397.21', '2,452.72'], ['Number of equity sharesoutstanding (Lacs)', '722.11', '722.11', '722.11', '722.11', '722.11'], [], [], [], [], [], []]\n"
     ]
    },
    {
     "name": "stderr",
     "output_type": "stream",
     "text": [
      "C:\\Users\\Akshat\\Anaconda3\\lib\\site-packages\\bs4\\__init__.py:181: UserWarning: No parser was explicitly specified, so I'm using the best available HTML parser for this system (\"lxml\"). This usually isn't a problem, but if you run this code on another system, or in a different virtual environment, it may use a different parser and behave differently.\n",
      "\n",
      "The code that caused this warning is on line 193 of the file C:\\Users\\Akshat\\Anaconda3\\lib\\runpy.py. To get rid of this warning, change code that looks like this:\n",
      "\n",
      " BeautifulSoup(YOUR_MARKUP})\n",
      "\n",
      "to this:\n",
      "\n",
      " BeautifulSoup(YOUR_MARKUP, \"lxml\")\n",
      "\n",
      "  markup_type=markup_type))\n"
     ]
    }
   ],
   "source": [
    "import csv\n",
    "import requests\n",
    "\n",
    "from bs4 import BeautifulSoup\n",
    "\n",
    "url = 'https://money.rediff.com/companies/Uflex-Ltd/14590006/balance-sheet'\n",
    "response = requests.get(url)\n",
    "html = response.content\n",
    "\n",
    "soup = BeautifulSoup(html)\n",
    "\n",
    "table = soup.find('table', attrs={'class': 'dataTable'})\n",
    "\n",
    "list_of_rows = []\n",
    "\n",
    "for row in table.findAll('tr'):\n",
    "    list_of_cells = []\n",
    "    for cell in row.findAll('td'):\n",
    "        cell = cell.text.replace('\\n','')\n",
    "        cell = cell.replace('\\t','')\n",
    "        list_of_cells.append(cell)\n",
    "    list_of_rows.append(list_of_cells)\n",
    "    \n",
    "for row in table.findAll('th'):\n",
    "    list_of_cells = []\n",
    "    for cell in row.findAll('td'):\n",
    "        cell = cell.text.replace('\\n','')\n",
    "        cell = cell.replace('\\t','')\n",
    "        list_of_cells.append(cell)\n",
    "    list_of_rows.append(list_of_cells)\n",
    "     \n",
    "print(list_of_rows)\n",
    "\n",
    "with open('uflex.csv', 'w', newline='') as csvfile:\n",
    "    writer = csv.writer(csvfile)\n",
    "    writer.writerow([\"\", \"Mar'18\", \"Mar'17\", \"Mar'16\", \"Mar'15\", \"Mar'14\"])\n",
    "    for data_list in list_of_rows:\n",
    "                if len(data_list)!=0:\n",
    "                    writer.writerow(data_list)"
   ]
  }
 ],
 "metadata": {
  "kernelspec": {
   "display_name": "Python 3",
   "language": "python",
   "name": "python3"
  },
  "language_info": {
   "codemirror_mode": {
    "name": "ipython",
    "version": 3
   },
   "file_extension": ".py",
   "mimetype": "text/x-python",
   "name": "python",
   "nbconvert_exporter": "python",
   "pygments_lexer": "ipython3",
   "version": "3.6.5"
  }
 },
 "nbformat": 4,
 "nbformat_minor": 2
}
