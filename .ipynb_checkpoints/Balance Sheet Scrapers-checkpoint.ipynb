{
 "cells": [
  {
   "cell_type": "code",
   "execution_count": 26,
   "metadata": {},
   "outputs": [
    {
     "name": "stderr",
     "output_type": "stream",
     "text": [
      "C:\\Users\\Akshat\\Anaconda3\\lib\\site-packages\\bs4\\__init__.py:181: UserWarning: No parser was explicitly specified, so I'm using the best available HTML parser for this system (\"lxml\"). This usually isn't a problem, but if you run this code on another system, or in a different virtual environment, it may use a different parser and behave differently.\n",
      "\n",
      "The code that caused this warning is on line 193 of the file C:\\Users\\Akshat\\Anaconda3\\lib\\runpy.py. To get rid of this warning, change code that looks like this:\n",
      "\n",
      " BeautifulSoup(YOUR_MARKUP})\n",
      "\n",
      "to this:\n",
      "\n",
      " BeautifulSoup(YOUR_MARKUP, \"lxml\")\n",
      "\n",
      "  markup_type=markup_type))\n"
     ]
    },
    {
     "name": "stdout",
     "output_type": "stream",
     "text": [
      "{'20 Microns Ltd': [['Sources of funds', 0, 0, 0, 0, 0], [\"Owner's fund\", 0, 0, 0, 0, 0], ['Equity share capital', '17.64', '17.64', '17.64', '16.91', '16.91'], ['Share application money', '-', '-', '-', '-', '-'], ['Preference share capital', '-', '-', '-', '-', '-'], ['Reserves & surplus', '115.14', '99.67', '66.37', '52.77', '57.50'], ['Loan funds', 0, 0, 0, 0, 0], ['Secured loans', '93.61', '115.02', '128.39', '132.47', '119.88'], ['Unsecured loans', '21.03', '17.45', '13.07', '15.09', '16.29'], ['Total', '247.42', '249.79', '225.47', '217.24', '210.58'], ['Uses of funds', 0, 0, 0, 0, 0], ['Fixed assets', 0, 0, 0, 0, 0], ['Gross block', '250.43', '234.46', '212.31', '206.84', '201.43'], ['Less : revaluation reserve', '-', '-', '-', '-', '-'], ['Less : accumulated depreciation', '86.36', '78.43', '72.25', '64.04', '54.53'], ['Net block', '164.07', '156.04', '140.05', '142.81', '146.90'], ['Capital work-in-progress', '7.88', '7.02', '2.45', '7.09', '10.73'], ['Investments', '21.69', '19.54', '7.38', '7.38', '7.38'], ['Net current assets', 0, 0, 0, 0, 0], ['Current assets, loans & advances', '157.57', '156.17', '165.13', '155.10', '142.08'], ['Less : current liabilities & provisions', '103.79', '88.97', '89.54', '95.15', '96.52'], ['Total net current assets', '53.79', '67.20', '75.59', '59.96', '45.56'], ['Miscellaneous expenses not written', '-', '-', '-', '-', '-'], ['Total', '247.42', '249.79', '225.47', '217.24', '210.58'], ['Notes:', 0, 0, 0, 0, 0], ['Book value of unquoted investments', '3.34', '1.83', '7.38', '7.38', '7.38'], ['Market value of quoted investments', '-', '-', '-', '-', '-'], ['Contingent liabilities', '22.12', '23.26', '20.97', '47.76', '40.43'], ['Number of equity sharesoutstanding (Lacs)', '352.87', '352.87', '352.87', '338.16', '338.16']], '3i Infotech Ltd': [['Sources of funds', 0, 0, 0, 0, 0], [\"Owner's fund\", 0, 0, 0, 0, 0], ['Equity share capital', '1,615.36', '1,183.65', '640.80', '603.75', '572.64'], ['Share application money', '-', '-', '-', '33.50', '-'], ['Preference share capital', '341.89', '311.70', '283.68', '65.00', '65.00'], ['Reserves & surplus', '-1,467.46', '-963.34', '-477.44', '-1,079.11', '-40.34'], ['Loan funds', 0, 0, 0, 0, 0], ['Secured loans', '361.94', '470.51', '479.04', '1,272.48', '1,353.94'], ['Unsecured loans', '262.44', '258.71', '240.38', '863.44', '894.18'], ['Total', '1,114.17', '1,261.23', '1,166.46', '1,759.06', '2,845.42'], ['Uses of funds', 0, 0, 0, 0, 0], ['Fixed assets', 0, 0, 0, 0, 0], ['Gross block', '480.78', '480.14', '479.94', '1,629.04', '1,629.20'], ['Less : revaluation reserve', '-', '-', '-', '125.50', '-'], ['Less : accumulated depreciation', '114.53', '111.85', '105.78', '265.77', '202.72'], ['Net block', '366.25', '368.29', '374.16', '1,237.77', '1,426.48'], ['Capital work-in-progress', '-', '-', '-', '-', '-'], ['Investments', '1,127.59', '1,236.89', '1,227.99', '1,432.55', '1,533.88'], ['Net current assets', 0, 0, 0, 0, 0], ['Current assets, loans & advances', '850.64', '880.66', '899.22', '927.53', '1,528.63'], ['Less : current liabilities & provisions', '1,230.31', '1,224.61', '1,334.91', '1,838.79', '1,643.57'], ['Total net current assets', '-379.67', '-343.95', '-435.69', '-911.26', '-114.94'], ['Miscellaneous expenses not written', '-', '-', '-', '-', '-'], ['Total', '1,114.17', '1,261.23', '1,166.46', '1,759.06', '2,845.42'], ['Notes:', 0, 0, 0, 0, 0], ['Book value of unquoted investments', '1,127.59', '1,236.89', '1,227.99', '1,432.55', '1,533.88'], ['Market value of quoted investments', '-', '-', '-', '-', '-'], ['Contingent liabilities', '342.10', '351.56', '392.46', '396.09', '435.03'], ['Number of equity sharesoutstanding (Lacs)', '16153.58', '11836.51', '6408.04', '6037.51', '5726.44']]}\n"
     ]
    }
   ],
   "source": [
    "urls = [\"https://money.rediff.com/companies/20-Microns-Ltd/15110088/balance-sheet\",\n",
    "\"https://money.rediff.com/companies/3i-Infotech-Ltd/13190098/balance-sheet\"]\n",
    "\n",
    "import csv\n",
    "import requests\n",
    "\n",
    "from bs4 import BeautifulSoup\n",
    "\n",
    "stock_dictionary = {}\n",
    "\n",
    "for url in urls:\n",
    "    response = requests.get(url)\n",
    "    html = response.content\n",
    "\n",
    "    soup = BeautifulSoup(html)\n",
    "\n",
    "    table = soup.find('table', attrs={'class': 'dataTable'})\n",
    "    \n",
    "    stock_name = soup.find('div', attrs={'class': 'f22 bold'})\n",
    "    stock_name = stock_name.text[:-19]\n",
    "        \n",
    "    filename = stock_name + \".csv\"\n",
    "    \n",
    "    path = \"Balance Sheets/\" + filename\n",
    "\n",
    "    list_of_rows = []\n",
    "\n",
    "    for row in table.findAll('tr'):\n",
    "        list_of_cells = []\n",
    "        for cell in row.findAll('td'):\n",
    "            cell = cell.text.replace('\\n','')\n",
    "            cell = cell.replace('\\t','')\n",
    "            list_of_cells.append(cell)                \n",
    "        list_of_rows.append(list_of_cells)\n",
    "        \n",
    "    list_of_rows = [x for x in list_of_rows if x != []]\n",
    "    \n",
    "    data_list = []\n",
    "    \n",
    "    for row in list_of_rows:\n",
    "        data_head = row[0]\n",
    "        if len(row)==1:\n",
    "            data_list.append([data_head, 0,0,0,0,0])\n",
    "            stock_dictionary[stock_name] = data_list\n",
    "        else:\n",
    "            data_list.append([data_head, row[1],row[2],row[3],row[4],row[5]])\n",
    "            stock_dictionary[stock_name] = data_list\n",
    "                \n",
    "    with open(path, 'w', newline='') as csvfile:\n",
    "        writer = csv.writer(csvfile)\n",
    "        writer.writerow([\"\", \"Mar'18\", \"Mar'17\", \"Mar'16\", \"Mar'15\", \"Mar'14\"])\n",
    "        for data_list in list_of_rows:\n",
    "                    if len(data_list)!=0:\n",
    "                        writer.writerow(data_list)\n",
    "                        \n",
    "                        \n",
    "for stock, data_list in stock_dictionary:\n",
    "    \n",
    "                        \n",
    "print(stock_dictionary)"
   ]
  },
  {
   "cell_type": "code",
   "execution_count": null,
   "metadata": {},
   "outputs": [],
   "source": []
  }
 ],
 "metadata": {
  "kernelspec": {
   "display_name": "Python 3",
   "language": "python",
   "name": "python3"
  },
  "language_info": {
   "codemirror_mode": {
    "name": "ipython",
    "version": 3
   },
   "file_extension": ".py",
   "mimetype": "text/x-python",
   "name": "python",
   "nbconvert_exporter": "python",
   "pygments_lexer": "ipython3",
   "version": "3.6.5"
  }
 },
 "nbformat": 4,
 "nbformat_minor": 2
}
